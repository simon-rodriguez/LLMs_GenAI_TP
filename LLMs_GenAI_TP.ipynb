{
 "cells": [
  {
   "cell_type": "markdown",
   "metadata": {},
   "source": [
    "## Parte 1\n",
    "\n",
    "- Se usan embeddings con los documentos y se cargan en una base de datos vectorial."
   ]
  },
  {
   "cell_type": "code",
   "execution_count": 3,
   "metadata": {},
   "outputs": [],
   "source": [
    "import os\n",
    "from dotenv import load_dotenv\n",
    "from pinecone import Pinecone, ServerlessSpec\n",
    "from langchain.document_loaders import PyPDFLoader"
   ]
  },
  {
   "cell_type": "code",
   "execution_count": 4,
   "metadata": {},
   "outputs": [],
   "source": [
    "#APIs\n",
    "PINECONE_API_KEY = os.getenv(\"PINECONE_API_KEY\")\n",
    "GROQ_API_KEY = os.getenv(\"GROQ_API_KEY\")\n",
    "OPENAI_API_KEY = os.getenv(\"OPENAI_API_KEY\")\n",
    "\n",
    "#SPECS\n",
    "PINECONE_CLOUD = os.environ.get('PINECONE_CLOUD')\n",
    "PINECONE_REGION = os.environ.get('PINECONE_REGION')"
   ]
  },
  {
   "cell_type": "code",
   "execution_count": 3,
   "metadata": {},
   "outputs": [],
   "source": [
    "# Se cargan los documentos en pdf\n",
    "loader = PyPDFLoader(\"./data/CV_Simon.pdf\")\n",
    "documents = loader.load()"
   ]
  },
  {
   "cell_type": "code",
   "execution_count": 4,
   "metadata": {},
   "outputs": [
    {
     "name": "stdout",
     "output_type": "stream",
     "text": [
      "Chunk 1:\n",
      "RESUME \n",
      " \n",
      " \n",
      " \n",
      "Professional Experience \n",
      " \n",
      "02/2024 –  \n",
      "today \n",
      "Eng. Digitization & PLM Specialist (Engineering Systems) – Accenture, Munich (DE) \n",
      "• Coordination of data migration activities and teams across multiple time zones.  \n",
      "• Planning, design, and supervision of ETL tasks during PLM implementations. \n",
      "• Lead Engineering and R&D Transformation Programs to drive Innovation and Process Enablement \n",
      "for the Clients in cross-functional teams.\n",
      "\n",
      "Chunk 2:\n",
      "for the Clients in cross-functional teams. \n",
      "• Enable transformation in R&D utilizing the  PLM capabilities by creating business processes for \n",
      "Package/Product design, BOM Management, Recipe/Specification Management, Engineering \n",
      "Change Management, Simulations, Sustainability, and supplier integration.  \n",
      "12/2022 –  \n",
      "02/2024 \n",
      "Management Consultant (Digital Engineering and R&D) – Accenture, CABA (ARG) \n",
      "• Participation in solution architecting proposals for clients.\n",
      "\n",
      "Chunk 3:\n",
      "• Design standardized assets and solutions for the PLM , Product & Engineering Data Management, \n",
      "Digital Twin, and Digital Thread services portfolio, and execute Go to Market. \n",
      "• Coordination of data migration activities and teams across multiple time zones.  \n",
      "• Planning, design, and supervision of ETL tasks during PLM implementations. \n",
      "• Lead Engineering and R&D Transformation Programs to drive Innovation and Process Enablement \n",
      "for the Clients in cross-functional teams.\n",
      "\n",
      "Chunk 4:\n",
      "for the Clients in cross-functional teams. \n",
      "• Enable transformation in R&D utilizing the  PLM capabilities by creating business processes for \n",
      "Package/Product design, BOM Management, Recipe/Specification Management, Engineering \n",
      "Change Management, Simulations, Sustainability, and supplier integration.  \n",
      "08/2021 – \n",
      "12/2022 \n",
      "Management Consultant Analyst (Digital Engineering and R&D) – Accenture, CABA (ARG)\n",
      "\n",
      "Chunk 5:\n",
      "• Support and advice to clients in the development and implementation of customized PLM solutions \n",
      "in a wide variety of industries as a business analyst. \n",
      "• Collaborate in the digital transformation of clients in the areas of IoT, Industry 4.0, Digital Twin and \n",
      "Digital Thread. \n",
      "• Analize requirements, design solutions, and implement them in coordination with cross -functional \n",
      "teams. \n",
      "• Planning, design, and supervision of ETL tasks during PLM implementations. \n",
      "01/2019 – \n",
      "08/2021\n",
      "\n",
      "Chunk 6:\n",
      "01/2019 – \n",
      "08/2021 \n",
      "Sr. Mechanical Design Engineer – EMA Electromecanica, Buenos Aires (ARG) \n",
      "• Development of new parts and electromechanical mechanisms using Siemens Solid Edge. \n",
      "• Project planning of new developments in coordination with Senior Management.  \n",
      "• Procurement and purchasing of components in coordination with the Procurement Manager. \n",
      "• Design of parts and assemblies for quality improvement and cost reduction on final products.\n",
      "\n",
      "Chunk 7:\n",
      "• Support of assembly and integration of new components on the assembly line . \n",
      "• Development, coordination and supervision of routine and type tests of new products and prototypes \n",
      "according to International Standards and in coordination with the QC Department.  \n",
      "• Coordination of companywide implementation of PLM Teamcenter, training of users and overseeing \n",
      "flawless usability with company’s ERP in coordination with IT department. \n",
      "• Elaboration of mechanical calculation reports.\n",
      "\n",
      "Chunk 8:\n",
      "• Elaboration of mechanical calculation reports. \n",
      "• Supervision of the development and manufacturing of new products overseas.  \n",
      "Simon Rodriguez A. \n",
      "Mechanical Engineer | Eng. Digitization & PLM Specialist | Management Consultant \n",
      "simon.andre.r@gmail.com | linkedin.com/in/simonrodrigueza/\n",
      "\n",
      "Chunk 9:\n",
      "06/2018 – \n",
      "12/2018 \n",
      "Quality Control Inspector – EMA Electromecanica, Buenos Aires (ARG) \n",
      "• Electromechanical inspection and testing of medium voltage switchgear. \n",
      "• In-factory routine tests of medium voltage switchgear and circuit breakers.  \n",
      "• Troubleshooting of MV/HV circuit breakers and switchgear. \n",
      "• Inspection and on-site commissioning of high voltage disconnectors. \n",
      " \n",
      "Education \n",
      " \n",
      "08/2022 –  \n",
      "12/2023 \n",
      "Postgraduate Specialization in IoT – Universidad de Buenos Aires – UBA (ARG)\n",
      "\n",
      "Chunk 10:\n",
      "• Internet Protocols, Data Architecture, Implementation of IoT, Development of Web Apps, Protocols \n",
      "Architectures, Infrastructure for Systems Implementation, Development of Multiplatform Apps, Big \n",
      "Data Management, Databases for AI, Development of Apps for IoT, Introductory courses to Artificial \n",
      "Intelligence and Machine Learning. \n",
      "08/2020 – \n",
      "12/2020 \n",
      "Project Management (Certified Course) – Universidad Tecnológica Nacional (ARG)\n",
      "\n",
      "Chunk 11:\n",
      "• Equivalent to 100 PDU (Professional Development Units of the PMI). \n",
      " \n",
      "10/2012 –  \n",
      "12/2018 \n",
      "B. Eng. Mechanical Engineering – Universidad Nacional Experimental “Antonio José de Sucre” (VEN) \n",
      "• Top graduate of the year. GPA: 7.91/9 \n",
      " \n",
      "Professional Certifications \n",
      " \n",
      "03/2023 PTC Windchill Fundamentals \n",
      "06/2022 AWS Certified Cloud Practitioner \n",
      " \n",
      "Skills \n",
      " \n",
      "Languages Spanish (native), English (fl uent – IELTS Academic 8.0), German (fluent – Goethe Zertifikat \n",
      "B2)\n",
      "\n",
      "Chunk 12:\n",
      "B2) \n",
      "IT Skills Siemens Solid Edge, PTC Windchill, PTC ThingWorx, Siemens Teamcenter, MS Office, Oracle \n",
      "SQL, Cloud (AWS), JIRA, Kanban, Agile, Python, SQL, NoSQL (Cypher, MongoDB), Espressif, \n",
      "Full-Stack Web dev (Javascript, Typescript, Angular/Ionic, HTML, NodeJS, express) \n",
      "Interests Renewable Energies, E -Mobility, Smart cities,  Machine Learning, Artificial Intelligence  \n",
      "(including Generative AI), IoT/IIoT, Data Science, Computer Vision, Digital Manufacturing and\n",
      "\n",
      "Chunk 13:\n",
      "Engineering, Cybersecurity\n",
      "\n"
     ]
    }
   ],
   "source": [
    "from langchain.text_splitter import RecursiveCharacterTextSplitter\n",
    "\n",
    "# Crear un splitter para dividir en chunks de 500 caracteres\n",
    "text_splitter = RecursiveCharacterTextSplitter(\n",
    "    chunk_size=500,  # Tamaño máximo de cada chunk\n",
    "    chunk_overlap=50  # Superposición entre chunks\n",
    ")\n",
    "\n",
    "# Dividir los documentos en chunks\n",
    "chunks = text_splitter.split_documents(documents)\n",
    "\n",
    "# Imprimir los chunks generados\n",
    "for i, chunk in enumerate(chunks):\n",
    "    print(f\"Chunk {i+1}:\\n{chunk.page_content}\\n\")"
   ]
  },
  {
   "cell_type": "code",
   "execution_count": null,
   "metadata": {},
   "outputs": [],
   "source": [
    "from transformers import AutoModel\n",
    "\n",
    "embedding_model = AutoModel.from_pretrained('jinaai/jina-embeddings-v2-base-en', trust_remote_code=True)\n",
    "chunk_embeddings = [embedding_model.encode(chunk.page_content).tolist() for chunk in chunks]"
   ]
  },
  {
   "cell_type": "code",
   "execution_count": 6,
   "metadata": {},
   "outputs": [
    {
     "data": {
      "text/plain": [
       "768"
      ]
     },
     "execution_count": 6,
     "metadata": {},
     "output_type": "execute_result"
    }
   ],
   "source": [
    "dim = len(chunk_embeddings[0])\n",
    "dim"
   ]
  },
  {
   "cell_type": "code",
   "execution_count": 7,
   "metadata": {},
   "outputs": [],
   "source": [
    "import time\n",
    "from pinecone import Pinecone, ServerlessSpec\n",
    "\n",
    "# Index Specs\n",
    "pc_cloud = PINECONE_CLOUD or \"aws\"\n",
    "pc_region = PINECONE_REGION or \"us-east-1\"\n",
    "\n",
    "\n",
    "# Se abre la conexión con Pinecone\n",
    "pc = Pinecone(api_key=PINECONE_API_KEY)\n",
    "\n",
    "index_name = \"cv-index\"\n",
    "\n",
    "# Se crea el índice si no existe\n",
    "if not pc.has_index(index_name):\n",
    "    pc.create_index(\n",
    "        name=index_name,\n",
    "        dimension=dim,\n",
    "        metric=\"cosine\",\n",
    "        spec=ServerlessSpec(\n",
    "            cloud=pc_cloud, \n",
    "            region=pc_region\n",
    "        ) \n",
    "    ) \n",
    "\n",
    "# Wait for the index to be ready\n",
    "while not pc.describe_index(index_name).status['ready']:\n",
    "    time.sleep(1)"
   ]
  },
  {
   "cell_type": "code",
   "execution_count": null,
   "metadata": {},
   "outputs": [],
   "source": [
    "len(chunks)"
   ]
  },
  {
   "cell_type": "code",
   "execution_count": null,
   "metadata": {},
   "outputs": [],
   "source": [
    "records = []\n",
    "for idx, emb in enumerate(chunk_embeddings):\n",
    "    records.append({\n",
    "        \"id\": str(idx),\n",
    "        \"values\": emb,\n",
    "        \"metadata\": {'text': chunks[idx].page_content }\n",
    "    })"
   ]
  },
  {
   "cell_type": "code",
   "execution_count": null,
   "metadata": {},
   "outputs": [],
   "source": [
    "# Se conecta al índice\n",
    "pinecone_index = pc.Index(index_name)\n",
    "time.sleep(1)\n",
    "\n",
    "# Se insertan los chunks en el índice\n",
    "pinecone_index.upsert(\n",
    "    vectors=records,\n",
    "    namespace=\"default\"\n",
    ")\n",
    "\n",
    "# For batches\n",
    "# from tqdm.auto import tqdm\n",
    "# for batch in tqdm(records.iter_documents(batch_size=500), total=160):\n",
    "#     index.upsert(batch)"
   ]
  },
  {
   "cell_type": "code",
   "execution_count": 11,
   "metadata": {},
   "outputs": [
    {
     "data": {
      "text/plain": [
       "{'dimension': 768,\n",
       " 'index_fullness': 0.0,\n",
       " 'namespaces': {'default': {'vector_count': 13}},\n",
       " 'total_vector_count': 13}"
      ]
     },
     "execution_count": 11,
     "metadata": {},
     "output_type": "execute_result"
    }
   ],
   "source": [
    "# Se conecta al índice\n",
    "pinecone_index = pc.Index(index_name)\n",
    "time.sleep(1)\n",
    "\n",
    "# view index stats\n",
    "pinecone_index.describe_index_stats()"
   ]
  },
  {
   "cell_type": "code",
   "execution_count": 12,
   "metadata": {},
   "outputs": [],
   "source": [
    "# Realizar una consulta a la base de datos\n",
    "def get_closest_answer(user_query):\n",
    "    # Obtener el embedding de la consulta\n",
    "    query_embedding = embedding_model.encode([user_query]).tolist() # Necesario convertirlo a una lista\n",
    "\n",
    "    # Buscar el vector más cercano usando Pinecone\n",
    "    result = pinecone_index.query(\n",
    "        namespace=\"default\",\n",
    "        vector=query_embedding, \n",
    "        top_k=1,\n",
    "        include_metadata=True,\n",
    "        include_values=False,\n",
    "        )\n",
    "    \n",
    "    return result"
   ]
  },
  {
   "cell_type": "code",
   "execution_count": 13,
   "metadata": {},
   "outputs": [],
   "source": [
    "# Add the retrieved information to the LLM system prompt\n",
    "def get_system_prompt(user_query):\n",
    "    result = get_closest_answer(user_query)\n",
    "    matched_info = ' '.join(item['metadata']['text'] for item in result['matches'])\n",
    "    context = f\"Information: {matched_info}\"\n",
    "    sys_prompt = f\"\"\"\n",
    "    Instructions:\n",
    "    - Be helpful and answer questions concisely. If you don't know the answer, say 'I don't know'\n",
    "    - Utilize the context provided for accurate and specific information.\n",
    "    Context: {context}\n",
    "    \"\"\"\n",
    "    return sys_prompt"
   ]
  },
  {
   "cell_type": "code",
   "execution_count": 14,
   "metadata": {},
   "outputs": [],
   "source": [
    "from groq import Groq\n",
    "\n",
    "client = Groq(\n",
    "    # GROQ_API_KEY is the default and can be omitted if in ENV variables\n",
    "    api_key=GROQ_API_KEY,\n",
    ")\n",
    "\n",
    "def sent_query_to_groq(sys_prompt, user_query):\n",
    "    # Define the query\n",
    "    chat_completion = client.chat.completions.create(\n",
    "        messages=[\n",
    "            {\n",
    "                \"role\": \"system\",\n",
    "                \"content\": sys_prompt,\n",
    "            },\n",
    "            {\n",
    "                \"role\": \"user\",\n",
    "                \"content\": user_query,\n",
    "            }\n",
    "        ],\n",
    "        model=\"llama3-8b-8192\",\n",
    "    )\n",
    "    # Get the response\n",
    "    response = chat_completion.choices[0].message.content\n",
    "    print(response)"
   ]
  },
  {
   "cell_type": "code",
   "execution_count": 139,
   "metadata": {},
   "outputs": [
    {
     "name": "stdout",
     "output_type": "stream",
     "text": [
      "Simon estudió en la Universidad Nacional Experimental “Antonio José de Sucre” (VEN).\n"
     ]
    }
   ],
   "source": [
    "user_query = \"En que universidad estudió simon?\"\n",
    "#user_query = \"What is Simon's experience?\"\n",
    "#user_query = \"What are Simon's skills?\"\n",
    "#user_query = \"What are Simon's interests?\"\n",
    "\n",
    "sys_prompt = get_system_prompt(user_query)\n",
    "\n",
    "sent_query_to_groq(sys_prompt, user_query)"
   ]
  },
  {
   "cell_type": "markdown",
   "metadata": {},
   "source": [
    "Equipo:\n",
    "- Andres Malvestti\n",
    "- Cristian Davico\n",
    "- Simon Rodriguez"
   ]
  },
  {
   "cell_type": "markdown",
   "metadata": {},
   "source": [
    "## Parte 2\n",
    "\n",
    "- Se utilizan agentes para responder especificamente sobre cada uno de los documentos.\n",
    "- Si no se presenta nombre, entonces traer uno por defecto.\n",
    "- PLUS: Si se consulta por más de un CV, traer el contexto de cada uno de forma acorde."
   ]
  }
 ],
 "metadata": {
  "kernelspec": {
   "display_name": ".venv",
   "language": "python",
   "name": "python3"
  },
  "language_info": {
   "codemirror_mode": {
    "name": "ipython",
    "version": 3
   },
   "file_extension": ".py",
   "mimetype": "text/x-python",
   "name": "python",
   "nbconvert_exporter": "python",
   "pygments_lexer": "ipython3",
   "version": "3.11.9"
  }
 },
 "nbformat": 4,
 "nbformat_minor": 2
}
